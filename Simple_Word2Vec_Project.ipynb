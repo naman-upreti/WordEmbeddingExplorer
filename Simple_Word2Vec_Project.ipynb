{
 "cells": [
  {
   "cell_type": "markdown",
   "metadata": {},
   "source": [
    "# Simple Word2Vec Project\n",
    "This notebook demonstrates how to use pre-trained word embeddings using the Gensim library. We'll use a smaller model (`glove-wiki-gigaword-50`) to find word similarities efficiently."
   ]
  },
  {
   "cell_type": "markdown",
   "metadata": {},
   "source": [
    "## 1. Installation and Setup"
   ]
  },
  {
   "cell_type": "code",
   "execution_count": 1,
   "metadata": {},
   "outputs": [
    {
     "name": "stdout",
     "output_type": "stream",
     "text": [
      "Requirement already satisfied: gensim in c:\\users\\naman\\anaconda3\\lib\\site-packages (4.3.3)\n",
      "Requirement already satisfied: numpy in c:\\users\\naman\\anaconda3\\lib\\site-packages (1.26.4)\n",
      "Requirement already satisfied: scipy<1.14.0,>=1.7.0 in c:\\users\\naman\\anaconda3\\lib\\site-packages (from gensim) (1.13.1)\n",
      "Requirement already satisfied: smart-open>=1.8.1 in c:\\users\\naman\\anaconda3\\lib\\site-packages (from gensim) (5.2.1)\n"
     ]
    }
   ],
   "source": [
    "# Install required packages\n",
    "!pip install gensim numpy"
   ]
  },
  {
   "cell_type": "markdown",
   "metadata": {},
   "source": [
    "## 2. Importing Libraries"
   ]
  },
  {
   "cell_type": "code",
   "execution_count": 2,
   "metadata": {},
   "outputs": [],
   "source": [
    "import gensim.downloader as api\n",
    "import numpy as np"
   ]
  },
  {
   "cell_type": "markdown",
   "metadata": {},
   "source": [
    "## 3. Loading a Small Pre-trained Model\n",
    "We'll use `glove-wiki-gigaword-50`, a smaller and faster model than Google News vectors."
   ]
  },
  {
   "cell_type": "code",
   "execution_count": 4,
   "metadata": {},
   "outputs": [
    {
     "name": "stdout",
     "output_type": "stream",
     "text": [
      "Loading pre-trained GloVe model...\n",
      "Model loaded successfully!\n"
     ]
    }
   ],
   "source": [
    "print(\"Loading pre-trained GloVe model...\")\n",
    "wv = api.load('glove-wiki-gigaword-50')\n",
    "print(\"Model loaded successfully!\")"
   ]
  },
  {
   "cell_type": "markdown",
   "metadata": {},
   "source": [
    "## 4. Getting Word Vectors"
   ]
  },
  {
   "cell_type": "code",
   "execution_count": 6,
   "metadata": {},
   "outputs": [
    {
     "name": "stdout",
     "output_type": "stream",
     "text": [
      "Vector for 'king': [ 0.50451   0.68607  -0.59517  -0.022801  0.60046  -0.13498  -0.08813\n",
      "  0.47377  -0.61798  -0.31012 ]\n"
     ]
    }
   ],
   "source": [
    "# Get vector representation of a word\n",
    "word = 'king'\n",
    "vec = wv[word]\n",
    "print(f\"Vector for '{word}': {vec[:10]}\")  # Display only first 10 values"
   ]
  },
  {
   "cell_type": "markdown",
   "metadata": {},
   "source": [
    "## 5. Finding Similar Words"
   ]
  },
  {
   "cell_type": "code",
   "execution_count": 7,
   "metadata": {},
   "outputs": [
    {
     "name": "stdout",
     "output_type": "stream",
     "text": [
      "Words similar to 'happy':\n",
      "'m: 0.9142\n",
      "everyone: 0.8976\n",
      "everybody: 0.8965\n",
      "really: 0.8840\n",
      "me: 0.8785\n"
     ]
    }
   ],
   "source": [
    "# Find words similar to a given word\n",
    "word = 'happy'\n",
    "similar_words = wv.most_similar(word, topn=5)\n",
    "print(f\"Words similar to '{word}':\")\n",
    "for similar_word, score in similar_words:\n",
    "    print(f\"{similar_word}: {score:.4f}\")"
   ]
  },
  {
   "cell_type": "markdown",
   "metadata": {},
   "source": [
    "## 6. Measuring Word Similarity"
   ]
  },
  {
   "cell_type": "code",
   "execution_count": 8,
   "metadata": {},
   "outputs": [
    {
     "name": "stdout",
     "output_type": "stream",
     "text": [
      "Similarity between 'apple' and 'orange': 0.5388\n"
     ]
    }
   ],
   "source": [
    "# Compare similarity between two words\n",
    "word1, word2 = 'apple', 'orange'\n",
    "similarity = wv.similarity(word1, word2)\n",
    "print(f\"Similarity between '{word1}' and '{word2}': {similarity:.4f}\")"
   ]
  },
  {
   "cell_type": "markdown",
   "metadata": {},
   "source": [
    "## 7. Saving and Loading Vectors"
   ]
  },
  {
   "cell_type": "code",
   "execution_count": 9,
   "metadata": {},
   "outputs": [
    {
     "name": "stdout",
     "output_type": "stream",
     "text": [
      "Vectors saved to word_vectors.kv\n"
     ]
    }
   ],
   "source": [
    "# Save vectors for later use\n",
    "output_file = \"word_vectors.kv\"\n",
    "wv.save(output_file)\n",
    "print(f\"Vectors saved to {output_file}\")"
   ]
  },
  {
   "cell_type": "code",
   "execution_count": null,
   "metadata": {},
   "outputs": [],
   "source": []
  },
  {
   "cell_type": "code",
   "execution_count": null,
   "metadata": {},
   "outputs": [],
   "source": []
  },
  {
   "cell_type": "code",
   "execution_count": null,
   "metadata": {},
   "outputs": [],
   "source": []
  }
 ],
 "metadata": {
  "kernelspec": {
   "display_name": "Python 3 (ipykernel)",
   "language": "python",
   "name": "python3"
  },
  "language_info": {
   "codemirror_mode": {
    "name": "ipython",
    "version": 3
   },
   "file_extension": ".py",
   "mimetype": "text/x-python",
   "name": "python",
   "nbconvert_exporter": "python",
   "pygments_lexer": "ipython3",
   "version": "3.12.7"
  }
 },
 "nbformat": 4,
 "nbformat_minor": 4
}
